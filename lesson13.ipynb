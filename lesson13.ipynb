{
 "cells": [
  {
   "cell_type": "code",
   "execution_count": 15,
   "metadata": {},
   "outputs": [
    {
     "data": {
      "text/plain": [
       "15"
      ]
     },
     "execution_count": 15,
     "metadata": {},
     "output_type": "execute_result"
    }
   ],
   "source": [
    "import random\n",
    "a=5\n",
    "b=10\n",
    "a+b"
   ]
  },
  {
   "cell_type": "code",
   "execution_count": 16,
   "metadata": {},
   "outputs": [
    {
     "name": "stdout",
     "output_type": "stream",
     "text": [
      "[64, -4, -5, 8, -53, -33, 59, -66, 77, -72]\n"
     ]
    }
   ],
   "source": [
    "arr=[]\n",
    "for i in range(0,10):\n",
    "    arr.append(random.randint(-100,100))\n",
    "print(arr)\n"
   ]
  },
  {
   "cell_type": "code",
   "execution_count": 17,
   "metadata": {},
   "outputs": [
    {
     "data": {
      "text/plain": [
       "[1, 2, 3, 4, 5, 6, 7, 8, 9]"
      ]
     },
     "execution_count": 17,
     "metadata": {},
     "output_type": "execute_result"
    }
   ],
   "source": [
    "arr=[]\n",
    "for i in range(1,10):\n",
    "    a=int(input(f'Enter number{i}'))\n",
    "    arr.append(a)\n",
    "arr"
   ]
  },
  {
   "cell_type": "code",
   "execution_count": 25,
   "metadata": {},
   "outputs": [
    {
     "name": "stdout",
     "output_type": "stream",
     "text": [
      "1\n",
      "7\n"
     ]
    }
   ],
   "source": [
    "list=[1,2,3,4,5,6,7]\n",
    "min_v=[]\n",
    "max_v=[]\n",
    "min_v=min(list)\n",
    "res2=max(list)\n",
    "print(min_v)\n",
    "print(res2)\n"
   ]
  },
  {
   "cell_type": "code",
   "execution_count": 36,
   "metadata": {},
   "outputs": [
    {
     "name": "stdout",
     "output_type": "stream",
     "text": [
      "[1, 3, 5, 7]\n",
      "[2, 4, 6]\n"
     ]
    }
   ],
   "source": [
    "list=[1,2,3,4,5,6,7]\n",
    "odd=[]\n",
    "even=[]\n",
    "for i in list:\n",
    "    if i%2==0:\n",
    "        odd.append(i)\n",
    "    else:\n",
    "        even.append(i)\n",
    "\n",
    "print(even)\n",
    "print(odd)\n",
    "\n",
    "\n",
    "\n"
   ]
  },
  {
   "cell_type": "code",
   "execution_count": 37,
   "metadata": {},
   "outputs": [
    {
     "data": {
      "text/plain": [
       "[3, 4, 5, 6]"
      ]
     },
     "execution_count": 37,
     "metadata": {},
     "output_type": "execute_result"
    }
   ],
   "source": [
    "\n",
    "arr=[]\n",
    "for i in range(1,6):\n",
    "    a=int(input(f\"Enter number{i}:\"))\n",
    "    arr.append(a)\n",
    "arr"
   ]
  },
  {
   "cell_type": "code",
   "execution_count": 45,
   "metadata": {},
   "outputs": [
    {
     "name": "stdout",
     "output_type": "stream",
     "text": [
      "[9]\n",
      "45\n"
     ]
    }
   ],
   "source": [
    "arr=[]\n",
    "sum=0\n",
    "for i in range(1,10):\n",
    "    a=int(input(f\"Enter number{i}:\"))\n",
    "    sum+=i\n",
    "arr.append(a)\n",
    "print(arr)\n",
    "print(sum)"
   ]
  },
  {
   "cell_type": "code",
   "execution_count": 1,
   "metadata": {},
   "outputs": [
    {
     "name": "stdout",
     "output_type": "stream",
     "text": [
      "30\n"
     ]
    }
   ],
   "source": [
    "lst=[1,2,3,4,5,6,7,8,9,10]\n",
    "res=0\n",
    "for  i in lst:\n",
    "    if i%2==0:\n",
    "        res+=i\n",
    "print(res)"
   ]
  },
  {
   "cell_type": "code",
   "execution_count": 7,
   "metadata": {},
   "outputs": [
    {
     "name": "stdout",
     "output_type": "stream",
     "text": [
      "3\n"
     ]
    }
   ],
   "source": [
    "def fib(n):\n",
    "    if n==0:\n",
    "        return 0\n",
    "    elif n==1:\n",
    "        return 1\n",
    "    else:\n",
    "        return fib(n-1)+fib(n-2)\n",
    "n=int(input(\"Enter number:\"))\n",
    "result=fib(n)\n",
    "print(result)"
   ]
  },
  {
   "cell_type": "code",
   "execution_count": 5,
   "metadata": {},
   "outputs": [
    {
     "name": "stdout",
     "output_type": "stream",
     "text": [
      "3\n"
     ]
    }
   ],
   "source": [
    "lst=[\"Hello\",\"How are you\",\"What is your name\"]\n",
    "letter=\"o\"\n",
    "count=0\n",
    "for i in lst:\n",
    "    if letter==\"o\":\n",
    "        count+=1\n",
    "print(count)\n"
   ]
  },
  {
   "cell_type": "code",
   "execution_count": 12,
   "metadata": {},
   "outputs": [
    {
     "name": "stdout",
     "output_type": "stream",
     "text": [
      "[2, 5, 3, 7, 10, 2, 6, 3, 5]\n",
      "Min number:2\n",
      "Max number:10\n",
      "Count:43\n"
     ]
    }
   ],
   "source": [
    "import random\n",
    "lst=[]\n",
    "count=0\n",
    "for i in range(1,10):\n",
    "    lst.append(random.randint(1,10))\n",
    "    min_num=min(lst)\n",
    "    max_num=max(lst)\n",
    "print(lst)\n",
    "print(f\"Min number:{min_num}\")\n",
    "print(f\"Max number:{max_num}\")\n",
    "for i in lst:\n",
    "    count+=i\n",
    "print(f\"Count:{count}\")\n",
    "\n"
   ]
  }
 ],
 "metadata": {
  "kernelspec": {
   "display_name": "Python 3",
   "language": "python",
   "name": "python3"
  },
  "language_info": {
   "codemirror_mode": {
    "name": "ipython",
    "version": 3
   },
   "file_extension": ".py",
   "mimetype": "text/x-python",
   "name": "python",
   "nbconvert_exporter": "python",
   "pygments_lexer": "ipython3",
   "version": "3.13.1"
  }
 },
 "nbformat": 4,
 "nbformat_minor": 2
}
